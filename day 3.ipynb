{
 "cells": [
  {
   "cell_type": "code",
   "execution_count": null,
   "id": "bedba8e5",
   "metadata": {},
   "outputs": [],
   "source": []
  },
  {
   "cell_type": "code",
   "execution_count": null,
   "id": "912c553e",
   "metadata": {},
   "outputs": [],
   "source": [
    "def addition(a,b):\n",
    "    c=a+b\n",
    "    return c\n"
   ]
  },
  {
   "cell_type": "code",
   "execution_count": null,
   "id": "f8f01d67",
   "metadata": {},
   "outputs": [],
   "source": [
    "a=int(input('enter a number no1:'))\n",
    "b=int(input('enter a number no2:'))\n",
    "addition(a,b)\n"
   ]
  },
  {
   "cell_type": "code",
   "execution_count": null,
   "id": "d9cd7a1b",
   "metadata": {},
   "outputs": [],
   "source": [
    "def  lagre(x,y,z):\n",
    "    if x>y and x>z:\n",
    "        return x\n",
    "    elif y>x and y<z:\n",
    "        return y\n",
    "    else:\n",
    "        return z\n",
    "        "
   ]
  },
  {
   "cell_type": "code",
   "execution_count": null,
   "id": "c5cbeab6",
   "metadata": {},
   "outputs": [],
   "source": [
    "a=int(input('enter a number no1:'))\n",
    "b=int(input('enter a number no2:'))\n",
    "c=int(input('enter a number no3:'))\n",
    "print('large is',lagre(a,b,c))      "
   ]
  },
  {
   "cell_type": "code",
   "execution_count": null,
   "id": "97c96140",
   "metadata": {},
   "outputs": [],
   "source": [
    "score=[23,43,10,45,65,24,34,12]\n",
    "sc_set=set(score)\n",
    "top=max(sc_set)\n",
    "sc_set.remove(top)\n",
    "print(max(sc_set))"
   ]
  },
  {
   "cell_type": "code",
   "execution_count": null,
   "id": "2265ee8c",
   "metadata": {},
   "outputs": [],
   "source": [
    "set1={2,4,5,6}\n",
    "set2={3,5,6,7,8,9}\n",
    "if set1.intersection(set2):\n",
    "    print(set1&set2)\n",
    "else:\n",
    "    print(set1.union(set2))"
   ]
  },
  {
   "cell_type": "code",
   "execution_count": 4,
   "id": "3b616e44",
   "metadata": {},
   "outputs": [
    {
     "name": "stdout",
     "output_type": "stream",
     "text": [
      "enter a number you be update:34\n",
      "Name not found\n"
     ]
    }
   ],
   "source": [
    "d={'John' :[25,32,43],'Peter':[87,55,96],'Ram':[58,55,43],'Meena':[63,79,85]}\n",
    "n=input(\"enter a number you be update:\")\n",
    "if n in d:\n",
    "    d[n]=[88,77,90]\n",
    "    print(d)\n",
    "else:\n",
    "    print(\"Name not found\")"
   ]
  },
  {
   "cell_type": "code",
   "execution_count": 6,
   "id": "11e8ad73",
   "metadata": {},
   "outputs": [
    {
     "data": {
      "text/plain": [
       "'Nraa'"
      ]
     },
     "execution_count": 6,
     "metadata": {},
     "output_type": "execute_result"
    }
   ],
   "source": [
    "s=\"Nirmala\"\n",
    "s[::2]"
   ]
  },
  {
   "cell_type": "code",
   "execution_count": 10,
   "id": "0a8d6782",
   "metadata": {},
   "outputs": [
    {
     "name": "stdout",
     "output_type": "stream",
     "text": [
      "Elder= 67\n",
      "yougnest= 23\n"
     ]
    }
   ],
   "source": [
    "age=(23,45,67)\n",
    "print(\"Elder=\",max(age))\n",
    "print(\"yougnest=\",min(age))"
   ]
  },
  {
   "cell_type": "code",
   "execution_count": null,
   "id": "d9362c73",
   "metadata": {},
   "outputs": [],
   "source": []
  },
  {
   "cell_type": "code",
   "execution_count": null,
   "id": "f0041c7f",
   "metadata": {},
   "outputs": [],
   "source": []
  }
 ],
 "metadata": {
  "kernelspec": {
   "display_name": "Python 3 (ipykernel)",
   "language": "python",
   "name": "python3"
  },
  "language_info": {
   "codemirror_mode": {
    "name": "ipython",
    "version": 3
   },
   "file_extension": ".py",
   "mimetype": "text/x-python",
   "name": "python",
   "nbconvert_exporter": "python",
   "pygments_lexer": "ipython3",
   "version": "3.9.12"
  }
 },
 "nbformat": 4,
 "nbformat_minor": 5
}
